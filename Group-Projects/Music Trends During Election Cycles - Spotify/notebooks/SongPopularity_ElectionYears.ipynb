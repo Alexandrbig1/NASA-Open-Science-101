{
 "cells": [
  {
   "cell_type": "markdown",
   "metadata": {},
   "source": [
    "## Music Trends During Election Cycles"
   ]
  },
  {
   "cell_type": "code",
   "execution_count": 1,
   "metadata": {},
   "outputs": [],
   "source": [
    "import pandas as pd\n",
    "import numpy as np\n",
    "import matplotlib.pyplot as plt\n",
    "import seaborn as sns\n",
    "\n",
    "%matplotlib inline"
   ]
  },
  {
   "cell_type": "code",
   "execution_count": 2,
   "metadata": {},
   "outputs": [],
   "source": [
    "df1 = pd.read_csv('../data/top10s.csv', index_col=0)\n",
    "df2 = pd.read_csv('../data/spotify_dataset.csv', index_col=0)\n",
    "df3 = pd.read_csv('../data/universal_top_spotify_songs.csv', index_col=0)"
   ]
  },
  {
   "cell_type": "code",
   "execution_count": null,
   "metadata": {},
   "outputs": [],
   "source": [
    "print(\"DF1 Head:\")\n",
    "df1.head()"
   ]
  },
  {
   "cell_type": "code",
   "execution_count": null,
   "metadata": {},
   "outputs": [],
   "source": [
    "print(\"DF2 Head:\")\n",
    "print(df2.head())"
   ]
  },
  {
   "cell_type": "code",
   "execution_count": null,
   "metadata": {},
   "outputs": [],
   "source": [
    "print(\"DF3 Head:\")\n",
    "df3.head()"
   ]
  },
  {
   "cell_type": "code",
   "execution_count": 3,
   "metadata": {},
   "outputs": [],
   "source": [
    "# Convert the release date to datetime in df2\n",
    "df2['Release Date'] = pd.to_datetime(df2['Release Date'], errors='coerce')\n",
    "\n",
    "# Convert snapshot_date to datetime in df3\n",
    "df3['snapshot_date'] = pd.to_datetime(df3['snapshot_date'], errors='coerce')"
   ]
  },
  {
   "cell_type": "code",
   "execution_count": null,
   "metadata": {},
   "outputs": [],
   "source": [
    "# Check for missing values\n",
    "print(df1.isnull().sum())\n",
    "print(df2.isnull().sum())\n",
    "print(df3.isnull().sum())"
   ]
  },
  {
   "cell_type": "code",
   "execution_count": 4,
   "metadata": {},
   "outputs": [],
   "source": [
    "# Drop rows with missing release dates in df2\n",
    "df2.dropna(subset=['Release Date'], inplace=True)\n",
    "\n",
    "# Drop rows with missing snapshot dates in df3\n",
    "df3.dropna(subset=['snapshot_date'], inplace=True)"
   ]
  },
  {
   "cell_type": "code",
   "execution_count": 5,
   "metadata": {},
   "outputs": [],
   "source": [
    "# Fill or drop missing values as appropriate\n",
    "df1.fillna(0, inplace=True)\n",
    "df2.fillna(0, inplace=True)\n",
    "df3.fillna(0, inplace=True)"
   ]
  },
  {
   "cell_type": "code",
   "execution_count": 6,
   "metadata": {},
   "outputs": [],
   "source": [
    "# Ensure numeric columns are in the correct format\n",
    "df1['year'] = pd.to_numeric(df1['year'], errors='coerce')\n",
    "df2['Danceability'] = pd.to_numeric(df2['Danceability'], errors='coerce')\n",
    "df2['Energy'] = pd.to_numeric(df2['Energy'], errors='coerce')\n",
    "df2['Loudness'] = pd.to_numeric(df2['Loudness'], errors='coerce')\n",
    "df3['duration_ms'] = pd.to_numeric(df3['duration_ms'], errors='coerce')\n",
    "df3['popularity'] = pd.to_numeric(df3['popularity'], errors='coerce')\n",
    "df3['loudness'] = pd.to_numeric(df3['loudness'], errors='coerce')"
   ]
  },
  {
   "cell_type": "code",
   "execution_count": 7,
   "metadata": {},
   "outputs": [],
   "source": [
    "# Filter data for the required years\n",
    "df1_filtered = df1[df1['year'].isin([2015, 2016, 2019])]\n",
    "df2_filtered = df2[df2['Release Date'].dt.year == 2020]\n",
    "df3_filtered = df3[df3['snapshot_date'].dt.year == 2023]"
   ]
  },
  {
   "cell_type": "code",
   "execution_count": 10,
   "metadata": {},
   "outputs": [],
   "source": [
    "# Combine the relevant data from all datasets\n",
    "df1_genre = df1_filtered[['top genre', 'year']].rename(columns={'top genre': 'genre'})\n",
    "df2_genre = df2_filtered[['Genre', 'Release Date']].rename(columns={'Genre': 'genre'})\n",
    "df3_genre = df3_filtered[['name', 'snapshot_date']].copy()"
   ]
  },
  {
   "cell_type": "code",
   "execution_count": 15,
   "metadata": {},
   "outputs": [
    {
     "name": "stdout",
     "output_type": "stream",
     "text": [
      "                                         name       artists  daily_rank  \\\n",
      "spotify_id                                                                \n",
      "3rUGC1vUpkDG9CZFHMur1t                 greedy    Tate McRae           1   \n",
      "4xhsWYTOGcal8zt0J161CU            Lovin On Me   Jack Harlow           2   \n",
      "1BxfuPKGuaTgP7aM0Bbdwr           Cruel Summer  Taylor Swift           3   \n",
      "0R6NfOiLzLj4O5VbYSJAjf              La Diabla          Xavi           4   \n",
      "3vkCueOmm7xQDoJ17W1Pm3  My Love Mine All Mine        Mitski           5   \n",
      "\n",
      "                        daily_movement  weekly_movement country snapshot_date  \\\n",
      "spotify_id                                                                      \n",
      "3rUGC1vUpkDG9CZFHMur1t               0               11       0    2023-12-31   \n",
      "4xhsWYTOGcal8zt0J161CU               0               13       0    2023-12-31   \n",
      "1BxfuPKGuaTgP7aM0Bbdwr               0               15       0    2023-12-31   \n",
      "0R6NfOiLzLj4O5VbYSJAjf               0               15       0    2023-12-31   \n",
      "3vkCueOmm7xQDoJ17W1Pm3               0               12       0    2023-12-31   \n",
      "\n",
      "                        popularity  is_explicit  duration_ms  ... key  \\\n",
      "spotify_id                                                    ...       \n",
      "3rUGC1vUpkDG9CZFHMur1t          96         True       131872  ...   6   \n",
      "4xhsWYTOGcal8zt0J161CU          95         True       138411  ...   2   \n",
      "1BxfuPKGuaTgP7aM0Bbdwr          96        False       178426  ...   9   \n",
      "0R6NfOiLzLj4O5VbYSJAjf          90        False       172264  ...  11   \n",
      "3vkCueOmm7xQDoJ17W1Pm3          96        False       137773  ...   9   \n",
      "\n",
      "                       loudness  mode  speechiness  acousticness  \\\n",
      "spotify_id                                                         \n",
      "3rUGC1vUpkDG9CZFHMur1t   -3.180     0       0.0319        0.2560   \n",
      "4xhsWYTOGcal8zt0J161CU   -4.911     1       0.0568        0.0026   \n",
      "1BxfuPKGuaTgP7aM0Bbdwr   -5.707     1       0.1570        0.1170   \n",
      "0R6NfOiLzLj4O5VbYSJAjf   -4.372     0       0.0409        0.2550   \n",
      "3vkCueOmm7xQDoJ17W1Pm3  -14.958     1       0.0321        0.8680   \n",
      "\n",
      "                        instrumentalness  liveness  valence    tempo  \\\n",
      "spotify_id                                                             \n",
      "3rUGC1vUpkDG9CZFHMur1t          0.000000    0.1140    0.844  111.018   \n",
      "4xhsWYTOGcal8zt0J161CU          0.000002    0.0937    0.606  104.983   \n",
      "1BxfuPKGuaTgP7aM0Bbdwr          0.000021    0.1050    0.564  169.994   \n",
      "0R6NfOiLzLj4O5VbYSJAjf          0.000000    0.2360    0.697  131.842   \n",
      "3vkCueOmm7xQDoJ17W1Pm3          0.135000    0.1580    0.121  113.950   \n",
      "\n",
      "                        time_signature  \n",
      "spotify_id                              \n",
      "3rUGC1vUpkDG9CZFHMur1t               1  \n",
      "4xhsWYTOGcal8zt0J161CU               4  \n",
      "1BxfuPKGuaTgP7aM0Bbdwr               4  \n",
      "0R6NfOiLzLj4O5VbYSJAjf               3  \n",
      "3vkCueOmm7xQDoJ17W1Pm3               4  \n",
      "\n",
      "[5 rows x 24 columns]\n"
     ]
    }
   ],
   "source": [
    "print(df3_filtered.head())"
   ]
  }
 ],
 "metadata": {
  "kernelspec": {
   "display_name": "Python 3",
   "language": "python",
   "name": "python3"
  },
  "language_info": {
   "codemirror_mode": {
    "name": "ipython",
    "version": 3
   },
   "file_extension": ".py",
   "mimetype": "text/x-python",
   "name": "python",
   "nbconvert_exporter": "python",
   "pygments_lexer": "ipython3",
   "version": "3.10.13"
  }
 },
 "nbformat": 4,
 "nbformat_minor": 2
}
