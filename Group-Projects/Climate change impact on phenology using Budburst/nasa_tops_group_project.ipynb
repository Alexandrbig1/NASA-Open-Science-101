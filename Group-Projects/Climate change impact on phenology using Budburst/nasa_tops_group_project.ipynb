{
 "cells": [
  {
   "cell_type": "markdown",
   "id": "a789ffef-ac51-4eec-a8ec-92f3c891e667",
   "metadata": {},
   "source": [
    "<img align=\"right\" src=\"https://zenodo.org/record/7742997/files/Tops_Badge_Nasa.png\" width=\"200\" alt=\"NASA TOPS Logo\">\n",
    "\n",
    "# Transform to Open Science (TOPS) Group Project\n",
    "\n",
    "[Akshay \"XA\" Mestry](https://www.linkedin.com/in/xames3/), [Bryan Palafox](https://www.linkedin.com/in/bryan-palafox/) and [Gianna Dubinski](https://www.linkedin.com/in/giadubinski/) under guidance of [Dr. Ian Moncrief](https://www.linkedin.com/in/ian-moncrief-nlu/)\n",
    "\n",
    "## Open Science 101\n",
    "\n",
    "The Open Science 101 is a 5-module curriculum designed to equip researchers, students and citizen scientists with the knowledge and skills to navigate the principles and practices of open science, including developing an open science and data management plan. Expand your Open Science expertise and equip yourself with the essential skills required to excel in the realm of open science.\n",
    "\n",
    "[NLU](https://nl.edu) is supporting NASA's mission to Transform to Open Science. Check out the [NASA TOPS Github](https://github.com/nasa/Transform-to-Open-Science/blob/main/README.md#open-science-101-curriculum)."
   ]
  },
  {
   "cell_type": "markdown",
   "id": "848044a8-81e9-45f4-8b41-a915db70d801",
   "metadata": {},
   "source": [
    "## Climate Change Impact on Phenology using [Budburst](https://budburst.org)\n",
    "\n",
    "<div style=\"align: center; text-align:center;\">\n",
    "    <img src=\"https://raw.githubusercontent.com/CSIS-NLU/Open-Science-101/main/Group-Projects/Climate%20change%20impact%20on%20phenology%20using%20Budburst/assets/budburst_website.png\" alt=\"Budburst\" />\n",
    "    <div></div>\n",
    "    <div>Budburst <i>(https://budburst.org)</i></div>\n",
    "</div>\n",
    "</br>\n",
    "\n",
    "**Purpose:** Using Open Science framework to analyze dataset(s) to answer how climate change is impacting [phenology](https://www.usanpn.org/about/phenology#:~:text=Phenology%20is%20the%20study%20of,animals%2C%20and%20other%20living%20things.).\n",
    "\n",
    "**Introduction:** [Budburst](https://budburst.org) research project is a community-driven effort, supported by the [Chicago Botanic Gardens](https://www.chicagobotanic.org). We are using the dataset from their [Plants & Climate Change](https://budburst.org/projects) research project to investigate our topic of how climate change is impacting [Red Maple](https://www.srs.fs.usda.gov/pubs/misc/ag_654/volume_2/acer/rubrum.htm#:~:text=Growth%20and%20Yield%2D%20Red%Maple) tree phenology. As part of the Open Science initiative and in their spirit, we adhered our research closely to their principles and practices, in an effort to make our research case study, data, processes and analysis available to all. Exercising Open Data principles, we narrowed our search for open-data for our project, focusing on the FAIR principles and thus chose Budburst. We filtered the Budburst dataset for the Red Maple observations from 2013 to 2023 for selected US states and a particular [phenophase](https://ndep.nv.gov/uploads/land-tribe-docs/Phenology_Handbook_2nd_ed_Abridged.pdf). In order to obtain the climate data we identified historical weather patterns from open-data platforms like [Weather Underground](https://www.wunderground.com).\n",
    "\n",
    "<div style=\"align: center; text-align:center;\">\n",
    "    <img src=\"https://raw.githubusercontent.com/CSIS-NLU/Open-Science-101/main/Group-Projects/Climate%20change%20impact%20on%20phenology%20using%20Budburst/assets/weather_underground_website.png\" alt=\"Weather Underground\" /></br>\n",
    "    <div></div>\n",
    "    <div>Weather Underground <i>(https://wunderground.com)</i></div>\n",
    "</div>\n",
    "</br>\n",
    "\n",
    "**NOTE:** We also used data from the [National Phenology Network](https://data.usanpn.org/vis-tool/#/) (NPN), from 2013 to 2023 to compare the phenophases of Red Maple across the US."
   ]
  },
  {
   "cell_type": "markdown",
   "id": "34bcf5e8-32cb-4710-b907-2626d9f7b244",
   "metadata": {
    "jp-MarkdownHeadingCollapsed": true
   },
   "source": [
    "## Hypotheses\n",
    "\n",
    "Every research or a case study begins by considering two **hypotheses**. They are called the **Null hypothesis** and the **Alternative hypothesis**. These hypotheses contain opposing viewpoints. For our research, we present the below two hypotheses.\n",
    "\n",
    "<details><summary>Hypothesis A</summary>\n",
    "&nbsp;&nbsp;&nbsp;&nbsp;$H_0$: The Red Maple tree buds earlier in 2023 compared to 2013 because of increasing temperatures.</br>\n",
    "&nbsp;&nbsp;&nbsp;&nbsp;$H_a$: The Red Maple tree budding is unaffected by the increasing temperatures.\n",
    "</details>\n",
    "\n",
    "<details><summary>Hypothesis B</summary>\n",
    "&nbsp;&nbsp;&nbsp;&nbsp;$H_0$: We predict there are higher first-bud Red Maple observations from the Eastern US because of the favorable weather conditions.</br>\n",
    "&nbsp;&nbsp;&nbsp;&nbsp;$H_a$: The weather conditions do not affect the first-bud Red Maple observations.\n",
    "</details>"
   ]
  },
  {
   "cell_type": "markdown",
   "id": "82bb2c23-f4d3-4440-9233-178108fa4e03",
   "metadata": {},
   "source": [
    "## Data Collection\n",
    "\n",
    "<img align=\"left\" src=\"https://raw.githubusercontent.com/CSIS-NLU/Open-Science-101/main/Group-Projects/Climate%20change%20impact%20on%20phenology%20using%20Budburst/assets/budburst_download_data.png\" style=\"padding-right:20px\" width=\"300\" alt=\"Budburst Data Download\">\n",
    "\n",
    "Based on our two hypotheses and sampling plan, we downloaded the complete [Budburst dataset](https://raw.githubusercontent.com/CSIS-NLU/Open-Science-101/main/Group-Projects/Climate%20change%20impact%20on%20phenology%20using%20Budburst/budburst_observations_with_temperature.csv) from early 2007 to 15 July, 2024 from their website. Similarly, for the weather (avg. temperature) data, we used Weather Underground for preparing our data. Both data observations were saved and made available in **.csv** format.\n",
    "\n",
    "**Note:** Although the Budburst data was properly structured, it had a lot of inconsistencies (pertaining to the state names and their abbreviations) and missing a lot of values.\n",
    "\n",
    "Anyone can download data from the Budburst project, assuming they have an account on their website. The data is accessible for everyone for free and can be filtered to user's need. The data can be downloaded from [here](https://budburst.org/data). Users can provide a time frame for their data alongside a couple of nifty filters. The oldest data available is from February, 2007. Since Budburst is a global community-driven initiative, there are observations from all around the world. Users can pick a specific region (Country or State), Plant groups (Wildflowers & Herbs, Conifers, Grasses, etc.) and Observation type (Phenology, Pollinators, etc.). Since, our project is learning about the phenology of plants, we chose *phenology* as our observation type.\n",
    "\n",
    "The data can be exported in **Excel** or **CSV** format.\n",
    "\n",
    "**Note:** The link to download the data takes some time, depending upon the volume of data requested."
   ]
  },
  {
   "cell_type": "markdown",
   "id": "acfe50d2-a71a-4fe1-b150-f90c00f3d13e",
   "metadata": {},
   "source": [
    "## Data Loading and Preprocessing\n",
    "\n",
    "For processing and analyzing the data, we used [Python](https://python.org) as our primary programming language of choice. Although, we started prototyping and brainstorming our analysis using Microsoft Excel. Python has support for libraries related to Data Analysis, Machine Learning and Visualization domains. For this project we used few of the popular Open Source packages like [Matplotlib](https://matplotlib.org), [NumPy](https://numpy.org) and [Pandas](https://pandas.pydata.org/docs/index.html).\n",
    "\n",
    "### Matplotlib\n",
    "\n",
    "<img align=\"right\" src=\"https://matplotlib.org/stable/_static/logo_dark.svg\" style=\"padding-left:20px\" width=\"300\" alt=\"Matplotlib\">\n",
    "\n",
    "Matplotlib is a comprehensive library for creating static, animated, and interactive visualizations in Python. Matplotlib makes easy things easy and hard things possible. A large number of third party packages extend and build on Matplotlib functionality, including several higher-level plotting interfaces (seaborn, HoloViews, ggplot, ...), and a projection and mapping toolkit (Cartopy).\n",
    "\n",
    "### NumPy\n",
    "\n",
    "<img align=\"left\" src=\"https://numpy.org/images/logo.svg\" style=\"padding-right:20px\" width=\"100\" alt=\"NumPy\">\n",
    "\n",
    "NumPy is the fundamental package for scientific computing in Python. It is a Python library that provides a multidimensional array object, various derived objects (such as masked arrays and matrices), and an assortment of routines for fast operations on arrays, including mathematical, logical, shape manipulation, sorting, selecting, I/O, discrete Fourier transforms, basic linear algebra, basic statistical operations, random simulation and much more.\n",
    "</br></br>\n",
    "### Pandas\n",
    "\n",
    "<img align=\"right\" src=\"https://pandas.pydata.org/static/img/pandas.svg\" style=\"padding-left:20px\" width=\"200\" alt=\"Pandas\">\n",
    "\n",
    "pandas is an open source, BSD-licensed library providing high-performance, easy-to-use data structures and data analysis tools for the Python programming language. The Pandas library is used for data manipulation and analysis. Pandas consist of data structures and functions to perform efficient operations on data."
   ]
  },
  {
   "cell_type": "code",
   "execution_count": 1,
   "id": "9e059281-8dd7-47e9-bdae-022d8bd10caa",
   "metadata": {},
   "outputs": [],
   "source": [
    "%matplotlib inline\n",
    "\n",
    "import matplotlib.pyplot as plt\n",
    "import numpy as np\n",
    "import pandas as pd\n",
    "from IPython.display import HTML"
   ]
  },
  {
   "cell_type": "markdown",
   "id": "2ee0bdd2-9792-4f7d-91e4-dcfb5e7f4223",
   "metadata": {},
   "source": [
    "**Note:** ```%matplotlib inline``` sets the backend of matplotlib to the \"inline\" backend. With this backend, the output of plotting commands is displayed inline within frontends like the Jupyter notebook, directly below the code cell that produced it. The resulting plots will then also be stored in the notebook document.\n",
    "\n",
    "Setting some display options to better visualize the data."
   ]
  },
  {
   "cell_type": "code",
   "execution_count": 2,
   "id": "17348c47-27e8-42f8-8347-302e8e0293ef",
   "metadata": {},
   "outputs": [],
   "source": [
    "pd.set_option(\"display.max_columns\", None)\n",
    "pd.set_option(\"display.show_dimensions\", True)\n",
    "pd.options.display.float_format = \"{:,.2f}\".format\n",
    "\n",
    "CSS = \"\"\"\\\n",
    "<style>\n",
    ".up::after {\n",
    "  content: \" ▲\";\n",
    "  color: green;\n",
    "}\n",
    "\n",
    ".down::after {\n",
    "  content: \" ▼\";\n",
    "  color: red;\n",
    "}\n",
    "</style>\n",
    "\"\"\"\n",
    "\n",
    "\n",
    "def trends(df: pd.DataFrame, col_idx: int) -> np.ndarray:\n",
    "    \"\"\"Assist with trend arrows for the dataframe.\"\"\"\n",
    "    return np.sign(df.diff(col_idx, axis=1)).replace({1: \"up\", -1:\"down\", 0: \"\"})"
   ]
  },
  {
   "cell_type": "code",
   "execution_count": 3,
   "id": "c8c599f5-9916-457b-8513-98bc34e8b39a",
   "metadata": {},
   "outputs": [],
   "source": [
    "plt.rcParams[\"axes.spines.right\"] = False\n",
    "plt.rcParams[\"axes.spines.top\"] = False\n",
    "plt.rcParams[\"axes.grid\"] = False\n",
    "plt.rcParams[\"axes.titlesize\"] = 8\n",
    "plt.style.use(\"fivethirtyeight\")"
   ]
  },
  {
   "cell_type": "markdown",
   "id": "77617070-1259-4a57-8618-eff9b2c0d08b",
   "metadata": {},
   "source": [
    "### Loading Data in Pandas\n",
    "\n",
    "As mentioned above, Pandas is a widely-used Python library for data science, analysis, and machine learning that offers a flexible and intuitive way to handle data sets of all sizes. One of the most important functionalities of pandas is the tools it provides for reading and writing data. For data available in a tabular format and stored as a **CSV** file, you can use pandas to read it into memory using the ``read_csv()`` function, which returns a pandas dataframe. But there are other functionalities too. For example, you can use pandas to perform merging, reshaping, joining, and concatenation operations.\n",
    "\n",
    "**Note:** Here, we're reading the CSV data from a URL where we have stored the data."
   ]
  },
  {
   "cell_type": "code",
   "execution_count": 4,
   "id": "fc256ed8-6449-4aa4-abcf-9488283dd8be",
   "metadata": {},
   "outputs": [],
   "source": [
    "BUDBURST_CSV: str = \"https://raw.githubusercontent.com/CSIS-NLU/Open-Science-101/main/Group-Projects/Climate%20change%20impact%20on%20phenology%20using%20Budburst/budburst_observations_with_temperature.csv\""
   ]
  },
  {
   "cell_type": "code",
   "execution_count": 5,
   "id": "008572c5-4a36-47c2-9700-f9df452f6346",
   "metadata": {},
   "outputs": [],
   "source": [
    "budburst = pd.read_csv(BUDBURST_CSV, dtype=\"unicode\")"
   ]
  },
  {
   "cell_type": "markdown",
   "id": "a04d7d56-d99b-4b91-ae4d-932cf79e2238",
   "metadata": {},
   "source": [
    "### Data Processing (Munging)\n",
    "\n",
    "#### Filtering\n",
    "\n",
    "When working with large datasets, efficient data filtering is crucial to extract the specific information we need. Filtering data from a pandas data frame is one of the most common operations when cleaning the data. Pandas provides a wide range of methods for selecting data according to the position and label of the rows and columns. In addition, Pandas also allows you to obtain a subset of data based on column types and to filter rows with boolean indexing. We used `.loc[...]` method for filtering. There are a lot of different methods available for getting the same results, some fast and some slow. It is totally up to the user to chose filtering strategies depending upon the type and shape of the dataset.\n",
    "\n",
    "#### Remove Empty Columns\n",
    "\n",
    "The `.dropna(axis=1, how=\"all\")` method removes the columns that are empty."
   ]
  },
  {
   "cell_type": "code",
   "execution_count": 6,
   "id": "4a4f1506-4b4c-421c-98ba-bc0d4da4f690",
   "metadata": {},
   "outputs": [],
   "source": [
    "budburst = (\n",
    "    budburst\n",
    "    .loc[budburst[\"report_type\"] == \"phenology\"]\n",
    "    .loc[budburst[\"common_name\"] == \"red maple\"]\n",
    "    .loc[budburst[\"country\"].isin((\"United States\", \"US\"))]\n",
    "    .loc[budburst[\"phenophase_title\"].isin((\"Bud burst\", \"Leaf bud burst\"))]\n",
    "    .dropna(axis=1, how=\"all\")\n",
    ")"
   ]
  },
  {
   "cell_type": "markdown",
   "id": "4902e3ef-9fca-4cba-994c-913c30dc5b65",
   "metadata": {},
   "source": [
    "#### Type Casting (Value Conversion)\n",
    "\n",
    "When a CSV file is imported and a Data Frame is made, the Date time objects in the file are read as a string object rather than a Date Time object Hence it’s very tough to perform operations like Time difference on a string rather than a Date Time object. Pandas `.to_datetime()` method helps to convert string Date time into Python Date time object."
   ]
  },
  {
   "cell_type": "code",
   "execution_count": 7,
   "id": "f1290f5a-92c7-4aed-9ab0-36a9e5b0556e",
   "metadata": {},
   "outputs": [],
   "source": [
    "budburst[\"observation_date\"] = budburst[\"observation_date\"].apply(pd.to_datetime)\n",
    "budburst[\"observation_month\"] = budburst[\"observation_date\"].dt.strftime(\"%B\").astype(str)\n",
    "budburst[\"observation_year\"] = budburst[\"observation_date\"].dt.to_period(\"Y\").astype(str)"
   ]
  },
  {
   "cell_type": "code",
   "execution_count": 8,
   "id": "5d6b4491-14f9-4358-bab8-dedf1fa65632",
   "metadata": {},
   "outputs": [],
   "source": [
    "budburst = budburst[pd.notnull(budburst[\"pollinators_temperature_fahrenheit\"])]"
   ]
  },
  {
   "cell_type": "markdown",
   "id": "b99f7647-95b4-4d4b-a07c-cc03801d09f8",
   "metadata": {},
   "source": [
    "### Data Analysis\n",
    "\n",
    "#### Hypothesis A\n",
    "\n",
    "The Red Maple tree buds earlier in 2023 compared to 2013 because of increasing temperatures."
   ]
  },
  {
   "cell_type": "code",
   "execution_count": 9,
   "id": "12869bd0-f428-487c-a71d-d6b166bb8b6c",
   "metadata": {},
   "outputs": [
    {
     "data": {
      "text/html": [
       "<style>\n",
       ".up::after {\n",
       "  content: \" ▲\";\n",
       "  color: green;\n",
       "}\n",
       "\n",
       ".down::after {\n",
       "  content: \" ▼\";\n",
       "  color: red;\n",
       "}\n",
       "</style>\n",
       "<style type=\"text/css\">\n",
       "</style>\n",
       "<table id=\"T_85f9a\">\n",
       "  <thead>\n",
       "    <tr>\n",
       "      <th class=\"blank\" >&nbsp;</th>\n",
       "      <th class=\"index_name level0\" >observation_year</th>\n",
       "      <th id=\"T_85f9a_level0_col0\" class=\"col_heading level0 col0\" >2013</th>\n",
       "      <th id=\"T_85f9a_level0_col1\" class=\"col_heading level0 col1\" >2023</th>\n",
       "    </tr>\n",
       "    <tr>\n",
       "      <th class=\"index_name level0\" >&nbsp;</th>\n",
       "      <th class=\"index_name level1\" >observation_month</th>\n",
       "      <th class=\"blank col0\" >&nbsp;</th>\n",
       "      <th class=\"blank col1\" >&nbsp;</th>\n",
       "    </tr>\n",
       "  </thead>\n",
       "  <tbody>\n",
       "    <tr>\n",
       "      <th id=\"T_85f9a_level0_row0\" class=\"row_heading level0 row0\" rowspan=\"3\">observation_month</th>\n",
       "      <th id=\"T_85f9a_level1_row0\" class=\"row_heading level1 row0\" >April</th>\n",
       "      <td id=\"T_85f9a_row0_col0\" class=\"data row0 col0\" >7</td>\n",
       "      <td id=\"T_85f9a_row0_col1\" class=\"data row0 col1 up\" >17</td>\n",
       "    </tr>\n",
       "    <tr>\n",
       "      <th id=\"T_85f9a_level1_row1\" class=\"row_heading level1 row1\" >March</th>\n",
       "      <td id=\"T_85f9a_row1_col0\" class=\"data row1 col0\" >8</td>\n",
       "      <td id=\"T_85f9a_row1_col1\" class=\"data row1 col1 up\" >16</td>\n",
       "    </tr>\n",
       "    <tr>\n",
       "      <th id=\"T_85f9a_level1_row2\" class=\"row_heading level1 row2\" >October</th>\n",
       "      <td id=\"T_85f9a_row2_col0\" class=\"data row2 col0\" >1</td>\n",
       "      <td id=\"T_85f9a_row2_col1\" class=\"data row2 col1 down\" >0</td>\n",
       "    </tr>\n",
       "  </tbody>\n",
       "</table>\n"
      ],
      "text/plain": [
       "<IPython.core.display.HTML object>"
      ]
     },
     "execution_count": 9,
     "metadata": {},
     "output_type": "execute_result"
    }
   ],
   "source": [
    "hypothesis_a = (\n",
    "    budburst\n",
    "    .groupby([\"observation_year\", \"observation_month\"])\n",
    "    .agg({\"observation_month\": \"count\"})\n",
    "    .unstack(\"observation_month\")\n",
    "    .fillna(0)\n",
    "    .astype(int)\n",
    ").T\n",
    "HTML(CSS + hypothesis_a.style.set_td_classes(trends(hypothesis_a, 1)).to_html())"
   ]
  },
  {
   "cell_type": "code",
   "execution_count": 10,
   "id": "19d1120f-6f51-4e30-be74-61e9f8f38274",
   "metadata": {},
   "outputs": [
    {
     "data": {
      "image/png": "[encoded data removed]",
      "text/plain": [
       "<Figure size 1200x600 with 1 Axes>"
      ]
     },
     "metadata": {},
     "output_type": "display_data"
    }
   ],
   "source": [
    "plot_a = hypothesis_a.T.plot(kind=\"bar\", figsize=(12, 6))\n",
    "plt.suptitle(\"Red Maple Budding with Change in Increase of Avg. Temperature\", fontsize=12)\n",
    "plt.xlabel(\"Annual Difference\", fontsize=12)\n",
    "plt.ylabel(\"Red Maple Observations\", fontsize=12)\n",
    "plt.legend(budburst[\"observation_month\"].unique(), loc=\"best\", fontsize=10)\n",
    "_ = plt.xticks(rotation=0, fontsize=10)\n",
    "\n",
    "for patch in plot_a.patches:\n",
    "    plot_a.annotate(str(patch.get_height()), (patch.get_x() + 0.1, patch.get_height() + 0.1))"
   ]
  },
  {
   "cell_type": "markdown",
   "id": "efe8ff07-5bf6-4a29-90ee-73560e4b5881",
   "metadata": {},
   "source": [
    "#### Hypothesis B\n",
    "\n",
    "We predict there are higher first-bud Red Maple observations from the Eastern US because of the favorable weather conditions."
   ]
  },
  {
   "cell_type": "code",
   "execution_count": 11,
   "id": "8507dee2-812c-4bf7-b621-f6c9a07bfab0",
   "metadata": {},
   "outputs": [
    {
     "data": {
      "text/html": [
       "<style>\n",
       ".up::after {\n",
       "  content: \" ▲\";\n",
       "  color: green;\n",
       "}\n",
       "\n",
       ".down::after {\n",
       "  content: \" ▼\";\n",
       "  color: red;\n",
       "}\n",
       "</style>\n",
       "<style type=\"text/css\">\n",
       "</style>\n",
       "<table id=\"T_a8653\">\n",
       "  <thead>\n",
       "    <tr>\n",
       "      <th class=\"blank level0\" >&nbsp;</th>\n",
       "      <th id=\"T_a8653_level0_col0\" class=\"col_heading level0 col0\" colspan=\"2\">pollinators_temperature_fahrenheit</th>\n",
       "    </tr>\n",
       "    <tr>\n",
       "      <th class=\"index_name level1\" >observation_year</th>\n",
       "      <th id=\"T_a8653_level1_col0\" class=\"col_heading level1 col0\" >2013</th>\n",
       "      <th id=\"T_a8653_level1_col1\" class=\"col_heading level1 col1\" >2023</th>\n",
       "    </tr>\n",
       "    <tr>\n",
       "      <th class=\"index_name level0\" >administrative_area_level_1</th>\n",
       "      <th class=\"blank col0\" >&nbsp;</th>\n",
       "      <th class=\"blank col1\" >&nbsp;</th>\n",
       "    </tr>\n",
       "  </thead>\n",
       "  <tbody>\n",
       "    <tr>\n",
       "      <th id=\"T_a8653_level0_row0\" class=\"row_heading level0 row0\" >IL</th>\n",
       "      <td id=\"T_a8653_row0_col0\" class=\"data row0 col0\" >1</td>\n",
       "      <td id=\"T_a8653_row0_col1\" class=\"data row0 col1 up\" >9</td>\n",
       "    </tr>\n",
       "    <tr>\n",
       "      <th id=\"T_a8653_level0_row1\" class=\"row_heading level0 row1\" >IN</th>\n",
       "      <td id=\"T_a8653_row1_col0\" class=\"data row1 col0\" >7</td>\n",
       "      <td id=\"T_a8653_row1_col1\" class=\"data row1 col1 down\" >2</td>\n",
       "    </tr>\n",
       "    <tr>\n",
       "      <th id=\"T_a8653_level0_row2\" class=\"row_heading level0 row2\" >MA</th>\n",
       "      <td id=\"T_a8653_row2_col0\" class=\"data row2 col0\" >1</td>\n",
       "      <td id=\"T_a8653_row2_col1\" class=\"data row2 col1 up\" >2</td>\n",
       "    </tr>\n",
       "    <tr>\n",
       "      <th id=\"T_a8653_level0_row3\" class=\"row_heading level0 row3\" >NC</th>\n",
       "      <td id=\"T_a8653_row3_col0\" class=\"data row3 col0\" >2</td>\n",
       "      <td id=\"T_a8653_row3_col1\" class=\"data row3 col1 up\" >9</td>\n",
       "    </tr>\n",
       "    <tr>\n",
       "      <th id=\"T_a8653_level0_row4\" class=\"row_heading level0 row4\" >NY</th>\n",
       "      <td id=\"T_a8653_row4_col0\" class=\"data row4 col0\" >1</td>\n",
       "      <td id=\"T_a8653_row4_col1\" class=\"data row4 col1 up\" >2</td>\n",
       "    </tr>\n",
       "    <tr>\n",
       "      <th id=\"T_a8653_level0_row5\" class=\"row_heading level0 row5\" >PA</th>\n",
       "      <td id=\"T_a8653_row5_col0\" class=\"data row5 col0\" >2</td>\n",
       "      <td id=\"T_a8653_row5_col1\" class=\"data row5 col1 up\" >6</td>\n",
       "    </tr>\n",
       "    <tr>\n",
       "      <th id=\"T_a8653_level0_row6\" class=\"row_heading level0 row6\" >VA</th>\n",
       "      <td id=\"T_a8653_row6_col0\" class=\"data row6 col0\" >2</td>\n",
       "      <td id=\"T_a8653_row6_col1\" class=\"data row6 col1 up\" >3</td>\n",
       "    </tr>\n",
       "  </tbody>\n",
       "</table>\n"
      ],
      "text/plain": [
       "<IPython.core.display.HTML object>"
      ]
     },
     "execution_count": 11,
     "metadata": {},
     "output_type": "execute_result"
    }
   ],
   "source": [
    "hypothesis_b = (\n",
    "    budburst\n",
    "    .groupby([\"observation_year\", \"administrative_area_level_1\"])\n",
    "    .agg({\"pollinators_temperature_fahrenheit\": \"count\"})\n",
    "    .sort_values(by=\"administrative_area_level_1\")\n",
    "    .unstack(\"observation_year\")\n",
    ")\n",
    "HTML(CSS + hypothesis_b.style.set_td_classes(trends(hypothesis_b, 1)).to_html())"
   ]
  },
  {
   "cell_type": "code",
   "execution_count": 12,
   "id": "eb0c17bf-6e8f-4456-a270-5b7a1c453a45",
   "metadata": {},
   "outputs": [
    {
     "data": {
      "image/png": "[encoded data removed]",
      "text/plain": [
       "<Figure size 1200x600 with 1 Axes>"
      ]
     },
     "metadata": {},
     "output_type": "display_data"
    }
   ],
   "source": [
    "plot_b = hypothesis_b.plot(kind=\"bar\", figsize=(12, 6))\n",
    "plt.suptitle(\"Red Maple Budding with Change in Avg. Temperature\", fontsize=12)\n",
    "plt.xlabel(\"US States\", fontsize=12)\n",
    "plt.ylabel(\"Red Maple Observations\", fontsize=12)\n",
    "plt.legend([2013, 2023], loc=\"best\", fontsize=10)\n",
    "_ = plt.xticks(rotation=0, fontsize=10)\n",
    "\n",
    "for patch in plot_b.patches:\n",
    "    plot_b.annotate(str(patch.get_height()), (patch.get_x() + 0.1, patch.get_height() + 0.1))"
   ]
  }
 ],
 "metadata": {
  "kernelspec": {
   "display_name": "Python 3 (ipykernel)",
   "language": "python",
   "name": "python3"
  },
  "language_info": {
   "codemirror_mode": {
    "name": "ipython",
    "version": 3
   },
   "file_extension": ".py",
   "mimetype": "text/x-python",
   "name": "python",
   "nbconvert_exporter": "python",
   "pygments_lexer": "ipython3",
   "version": "3.12.1"
  }
 },
 "nbformat": 4,
 "nbformat_minor": 5
}
